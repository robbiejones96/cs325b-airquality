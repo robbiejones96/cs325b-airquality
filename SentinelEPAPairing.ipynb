{
 "cells": [
  {
   "cell_type": "code",
   "execution_count": 1,
   "metadata": {},
   "outputs": [],
   "source": [
    "import pandas as pd\n",
    "import os\n",
    "import sys\n",
    "from pandarallel import pandarallel\n",
    "import numpy as np"
   ]
  },
  {
   "cell_type": "code",
   "execution_count": 2,
   "metadata": {},
   "outputs": [
    {
     "name": "stdout",
     "output_type": "stream",
     "text": [
      "New pandarallel memory created - Size: 2000 MB\n",
      "Pandarallel will run on 2 workers\n"
     ]
    }
   ],
   "source": [
    "pandarallel.initialize()"
   ]
  },
  {
   "cell_type": "markdown",
   "metadata": {},
   "source": [
    "Change `REPO_NAME` to whatever you named the Git repo."
   ]
  },
  {
   "cell_type": "code",
   "execution_count": 3,
   "metadata": {},
   "outputs": [],
   "source": [
    "HOME_FOLDER = os.path.expanduser(\"~\")\n",
    "REPO_NAME = \"cs325b-airquality\"\n",
    "REPO_FOLDER = os.path.join(HOME_FOLDER, REPO_NAME)"
   ]
  },
  {
   "cell_type": "code",
   "execution_count": 4,
   "metadata": {},
   "outputs": [
    {
     "name": "stdout",
     "output_type": "stream",
     "text": [
      "Assumes Git repo is  /home/robbiejones/cs325b-airquality\n"
     ]
    }
   ],
   "source": [
    "print(\"Assumes Git repo is \", REPO_FOLDER)"
   ]
  },
  {
   "cell_type": "code",
   "execution_count": 5,
   "metadata": {},
   "outputs": [],
   "source": [
    "sys.path.append(REPO_FOLDER)\n",
    "import utils"
   ]
  },
  {
   "cell_type": "markdown",
   "metadata": {},
   "source": [
    "Change `DATA_FOLDER` below to the appropriate folder storing the gcloud bucket.\n",
    "This module assumes the bucket data is stored in `~/${DATA_FOLDER}`, with EPA readings stored in `~/${DATA_FOLDER}/epa` and Sentinel data stored in `~/${DATA_FOLDER}/sentinel`."
   ]
  },
  {
   "cell_type": "code",
   "execution_count": 6,
   "metadata": {},
   "outputs": [],
   "source": [
    "DATA_FOLDER = \"es262-airquality\"\n",
    "EPA_DATA_FOLDER = os.path.join(HOME_FOLDER, DATA_FOLDER, \"epa\")\n",
    "SENTINEL_FOLDER = os.path.join(HOME_FOLDER, DATA_FOLDER, \"sentinel\")\n",
    "SENTINEL_METADATA_FOLDER = os.path.join(SENTINEL_FOLDER, \"Metadata\")"
   ]
  },
  {
   "cell_type": "markdown",
   "metadata": {},
   "source": [
    "Run the cell below and verify the folder paths are correct!"
   ]
  },
  {
   "cell_type": "code",
   "execution_count": 7,
   "metadata": {},
   "outputs": [
    {
     "name": "stdout",
     "output_type": "stream",
     "text": [
      "Will look for EPA data in  /home/robbiejones/es262-airquality/epa\n",
      "Will look for Sentinel data in  /home/robbiejones/es262-airquality/sentinel\n"
     ]
    }
   ],
   "source": [
    "print(\"Will look for EPA data in \", EPA_DATA_FOLDER)\n",
    "print(\"Will look for Sentinel data in \", SENTINEL_FOLDER)"
   ]
  },
  {
   "cell_type": "code",
   "execution_count": 8,
   "metadata": {},
   "outputs": [
    {
     "name": "stdout",
     "output_type": "stream",
     "text": [
      "CPU times: user 128 ms, sys: 28 ms, total: 156 ms\n",
      "Wall time: 157 ms\n"
     ]
    }
   ],
   "source": [
    "%%time\n",
    "# Can take a while if running for the first time\n",
    "utils.rename_all_sentinel_files(SENTINEL_FOLDER)"
   ]
  },
  {
   "cell_type": "code",
   "execution_count": 9,
   "metadata": {},
   "outputs": [
    {
     "name": "stdout",
     "output_type": "stream",
     "text": [
      "CPU times: user 4.71 s, sys: 716 ms, total: 5.43 s\n",
      "Wall time: 5.43 s\n"
     ]
    }
   ],
   "source": [
    "%%time\n",
    "# load all EPA data into a DataFrame (can take up to a minute or so)\n",
    "epa_df = utils.load_csv_dfs(EPA_DATA_FOLDER)"
   ]
  },
  {
   "cell_type": "code",
   "execution_count": 10,
   "metadata": {},
   "outputs": [
    {
     "name": "stdout",
     "output_type": "stream",
     "text": [
      "CPU times: user 4min 12s, sys: 4.55 s, total: 4min 17s\n",
      "Wall time: 12min 17s\n"
     ]
    }
   ],
   "source": [
    "%%time\n",
    "# can take anywhere from 10-15 minutes.\n",
    "dates = utils.load_sentinel_dates(SENTINEL_METADATA_FOLDER)"
   ]
  },
  {
   "cell_type": "code",
   "execution_count": 11,
   "metadata": {},
   "outputs": [
    {
     "name": "stdout",
     "output_type": "stream",
     "text": [
      "CPU times: user 9.75 s, sys: 2.08 s, total: 11.8 s\n",
      "Wall time: 10min 11s\n"
     ]
    }
   ],
   "source": [
    "%%time\n",
    "# can take anywhere from 10-15 minutes.\n",
    "new_df = epa_df.assign(SENTINEL_FILENAME = \"\", SENTINEL_INDEX = -1)\n",
    "del epa_df\n",
    "new_df = new_df.parallel_apply(utils.add_sentinel_info, axis=1, metadata_folder_path=SENTINEL_METADATA_FOLDER, sentinel_dates = dates)"
   ]
  },
  {
   "cell_type": "code",
   "execution_count": 12,
   "metadata": {},
   "outputs": [],
   "source": [
    "del dates"
   ]
  },
  {
   "cell_type": "code",
   "execution_count": 13,
   "metadata": {},
   "outputs": [
    {
     "name": "stdout",
     "output_type": "stream",
     "text": [
      "CPU times: user 23.7 s, sys: 368 ms, total: 24.1 s\n",
      "Wall time: 24 s\n"
     ]
    }
   ],
   "source": [
    "%%time\n",
    "new_df.to_csv(os.path.join(EPA_DATA_FOLDER, \"combined\") + \".csv\")"
   ]
  }
 ],
 "metadata": {
  "kernelspec": {
   "display_name": "Python 3",
   "language": "python",
   "name": "python3"
  },
  "language_info": {
   "codemirror_mode": {
    "name": "ipython",
    "version": 3
   },
   "file_extension": ".py",
   "mimetype": "text/x-python",
   "name": "python",
   "nbconvert_exporter": "python",
   "pygments_lexer": "ipython3",
   "version": "3.7.4"
  }
 },
 "nbformat": 4,
 "nbformat_minor": 4
}
