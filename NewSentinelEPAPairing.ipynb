{
 "cells": [
  {
   "cell_type": "code",
   "execution_count": 1,
   "metadata": {},
   "outputs": [],
   "source": [
    "import pandas as pd\n",
    "import os\n",
    "import sys\n",
    "from pandarallel import pandarallel\n",
    "import numpy as np\n",
    "import pickle\n",
    "import utils\n",
    "import data_processing"
   ]
  },
  {
   "cell_type": "code",
   "execution_count": null,
   "metadata": {},
   "outputs": [],
   "source": [
    "pandarallel.initialize()"
   ]
  },
  {
   "cell_type": "code",
   "execution_count": 2,
   "metadata": {},
   "outputs": [],
   "source": [
    "HOME_FOLDER = os.path.expanduser(\"~\")\n",
    "REPO_NAME = \"cs325b-airquality\"\n",
    "REPO_FOLDER = os.path.join(HOME_FOLDER, REPO_NAME)\n",
    "DATA_FOLDER = \"data\"\n",
    "sys.path.append(REPO_FOLDER)\n",
    "EPA_DATA_FOLDER = os.path.join(REPO_FOLDER, DATA_FOLDER, \"epa\")\n",
    "SENTINEL_FOLDER = os.path.join(REPO_FOLDER, DATA_FOLDER, \"sentinel\")\n",
    "SENTINEL_METADATA_FOLDER = os.path.join(SENTINEL_FOLDER, \"metadata_2016\")"
   ]
  },
  {
   "cell_type": "code",
   "execution_count": null,
   "metadata": {},
   "outputs": [],
   "source": [
    "#%%time\n",
    "# Can take a while if running for the first time\n",
    "#data_processing.rename_sentinel_files(SENTINEL_FOLDER)\n",
    "#data_processing.rename_sentinel_files(SENTINEL_METADATA_FOLDER)"
   ]
  },
  {
   "cell_type": "code",
   "execution_count": 3,
   "metadata": {},
   "outputs": [
    {
     "name": "stdout",
     "output_type": "stream",
     "text": [
      "CPU times: user 1.16 s, sys: 188 ms, total: 1.35 s\n",
      "Wall time: 2.51 s\n"
     ]
    }
   ],
   "source": [
    "%%time\n",
    "# load EPA df\n",
    "PROCESSED_DATA_FOLDER = os.path.join(REPO_FOLDER, DATA_FOLDER, \"processed_data\")\n",
    "train_csv = os.path.join(PROCESSED_DATA_FOLDER, \"train_sites_master_csv_2016.csv\")\n",
    "val_csv = os.path.join(PROCESSED_DATA_FOLDER, \"val_sites_master_csv_2016.csv\")\n",
    "test_csv = os.path.join(PROCESSED_DATA_FOLDER, \"test_sites_master_csv_2016.csv\")\n",
    "tr_df = pd.read_csv(train_csv, index_col=0)\n",
    "val_df = pd.read_csv(val_csv, index_col=0)\n",
    "test_df = pd.read_csv(test_csv, index_col=0)\n",
    "epa_df = pd.concat([tr_df, val_df, test_df])\n"
   ]
  },
  {
   "cell_type": "code",
   "execution_count": null,
   "metadata": {},
   "outputs": [],
   "source": [
    "%%time\n",
    "# can take anywhere from 10-15 minutes.\n",
    "#dates = data_processing.load_sentinel_dates(SENTINEL_METADATA_FOLDER)\n",
    "#with open('dates.pickle', 'wb') as handle:\n",
    "#    pickle.dump(dates, handle, protocol=pickle.HIGHEST_PROTOCOL)\n",
    "\n",
    "with open('dates.pickle', 'rb') as handle:\n",
    "    dates = pickle.load(handle)\n",
    "print(len(dates))"
   ]
  },
  {
   "cell_type": "code",
   "execution_count": null,
   "metadata": {},
   "outputs": [],
   "source": [
    "%%time\n",
    "\n",
    "new_df = epa_df.assign(SENTINEL_FILENAME = \"\", SENTINEL_INDEX = -1)\n",
    "new_df = new_df.parallel_apply(data_processing.add_sentinel_info, axis=1, \n",
    "                                      metadata_folder_path=SENTINEL_METADATA_FOLDER,\n",
    "                                      sentinel_folder_path=SENTINEL_FOLDER,\n",
    "                                      sentinel_dates = dates)\n",
    "\n"
   ]
  },
  {
   "cell_type": "code",
   "execution_count": null,
   "metadata": {},
   "outputs": [],
   "source": [
    "# Save master csv created, which includes sentinel values for entries \n",
    "# where metadata and npy image dimensions do not match up\n",
    "#new_df.to_csv(os.path.join(utils.PROCESSED_DATA_FOLDER, \"epa_sentinel_withdays.csv\")#\n",
    "#print(new_df)"
   ]
  },
  {
   "cell_type": "code",
   "execution_count": null,
   "metadata": {},
   "outputs": [],
   "source": [
    "# Save just the entries where the metadata and npy image dimensions match up\n",
    "valid = new_df[new_df['SENTINEL_INDEX']!= -1]\n",
    "# print(valid)\n",
    "#valid.to_csv(os.path.join(utils.PROCESSED_DATA_FOLDER, \"epa_sentinel_valid_withdays.csv\")"
   ]
  },
  {
   "cell_type": "code",
   "execution_count": 6,
   "metadata": {},
   "outputs": [],
   "source": [
    "# Read back dfs from csv after running repairing code\n",
    "PROCESSED_DATA_FOLDER = os.path.join(REPO_FOLDER, DATA_FOLDER, \"processed_data\")\n",
    "valid_csv = os.path.join(utils.PROCESSED_DATA_FOLDER, \"epa_sentinel_valid_withdays.csv\")\n",
    "full_csv = os.path.join(utils.PROCESSED_DATA_FOLDER, \"epa_sentinel_withdays.csv\")\n",
    "full_df = pd.read_csv(full_csv, index_col=0)\n",
    "valid_df = pd.read_csv(valid_csv, index_col=0)\n",
    "\n",
    "# Get entries that qualify as close enough: i.e. sentinel imag taken within 4 days of EPA measure \n",
    "close_enough = valid_df[valid_df['PM Reading/Image day difference'] < 5]"
   ]
  },
  {
   "cell_type": "code",
   "execution_count": 7,
   "metadata": {},
   "outputs": [
    {
     "name": "stdout",
     "output_type": "stream",
     "text": [
      "Number of unique stations with old pairing: 1152\n",
      "Number of unique stations with new pairing: 1152\n",
      "Number of unique stations after removing entries with mismatched measurements: 738\n",
      "Number of unique stations after removing entries with date differences > 4: 735\n"
     ]
    }
   ],
   "source": [
    "# Checking how many unique stations the repairing/limiting removes \n",
    "unique_stations_old = epa_df['Site ID'].unique()\n",
    "unique_stations_full = full_df['Site ID'].unique()\n",
    "unique_stations_valid = valid_df['Site ID'].unique()\n",
    "unique_stations_close  = close_enough['Site ID'].unique()\n",
    "print(\"Number of unique stations with old pairing: {}\".format(len(unique_stations_old)))\n",
    "print(\"Number of unique stations with new pairing: {}\".format(len(unique_stations_full)))\n",
    "print(\"Number of unique stations after removing entries with mismatched measurements: {}\".format(len(unique_stations_valid)))\n",
    "print(\"Number of unique stations after removing entries with date differences > 4: {}\".format(len(unique_stations_close)))"
   ]
  },
  {
   "cell_type": "code",
   "execution_count": 8,
   "metadata": {},
   "outputs": [
    {
     "name": "stdout",
     "output_type": "stream",
     "text": [
      "Using 258 sites out of 735\n"
     ]
    }
   ],
   "source": [
    "# Since we're splitting spatially across sites, need to ensure there are sufficient readings per site\n",
    "# For now, limiting to sites that have at least 80 measurements over the year\n",
    "site_measurement_counts = close_enough[\"Site ID\"].value_counts()\n",
    "site_measurement_counts = site_measurement_counts.to_frame(name='counts')\n",
    "sites_with_sufficient_measurements = site_measurement_counts[site_measurement_counts['counts'] > 80]\n",
    "all_suff_measure_sites = sites_with_sufficient_measurements.index.tolist()\n",
    "num_sites_suff = len(sites_with_sufficient_measurements)\n",
    "df_suff_close = close_enough[close_enough['Site ID'].isin(all_suff_measure_sites)]\n",
    "print(\"Using {} sites out of {}\".format(num_sites_suff, len(unique_stations_close)))"
   ]
  },
  {
   "cell_type": "code",
   "execution_count": 9,
   "metadata": {},
   "outputs": [],
   "source": [
    "# Shuffle and plit into train/val/test 0.8, 0.1, 0.1 \n",
    "#shuffled_sites = sites_with_sufficient_measurements.sample(frac=1)\n",
    "#num_train, num_val, num_test = int(0.8*num_sites_suff), int(0.1*num_sites_suff), int(0.1*num_sites_suff)\n",
    "#train = shuffled_sites[:num_train]\n",
    "#val = shuffled_sites[num_train:num_train+num_val]\n",
    "#test = shuffled_sites[num_train+num_val:]\n",
    "\n",
    "#train_sites = train.index.tolist()\n",
    "#val_sites = val.index.tolist()\n",
    "#test_sites = test.index.tolist()\n",
    "\n",
    "#train_df = df_suff[df_suff['Site ID'].isin(train_sites)]\n",
    "#val_df = df_suff[df_suff['Site ID'].isin(val_sites)]\n",
    "#test_df = df_suff[df_suff['Site ID'].isin(test_sites)]"
   ]
  },
  {
   "cell_type": "code",
   "execution_count": 10,
   "metadata": {},
   "outputs": [
    {
     "name": "stdout",
     "output_type": "stream",
     "text": [
      "Train-repaired only considering days <5 away now has size: 26304\n",
      "Val-repaired only considering days <5 away now has size: 4704\n",
      "Test-repaired only considering days <5 away now has size: 2983\n"
     ]
    }
   ],
   "source": [
    "# Get existing train/val/test df splits\n",
    "train_df = pd.read_csv(os.path.join(utils.PROCESSED_DATA_FOLDER,\"train_repaired_sufficient_stats_2016.csv\"),index_col=0)\n",
    "val_df = pd.read_csv(os.path.join(utils.PROCESSED_DATA_FOLDER, \"val_repaired_sufficient_stats_2016.csv\"),index_col=0)\n",
    "test_df = pd.read_csv(os.path.join(utils.PROCESSED_DATA_FOLDER, \"test_repaired_sufficient_stats_2016.csv\"), index_col=0)\n",
    "\n",
    "# Get the list of indices (Site-id dates) of sufficiently close entries \n",
    "df_suff_close_entries = df_suff_close['Site ID_Date'].tolist()  ## Only 33991 entries qualify as suff. close\n",
    "train_entries = train_df['Site ID_Date'].tolist()               ## vs   66703 entries in train set alone for comp.\n",
    "\n",
    "# Get only the rows that qualify as sufficiently close\n",
    "train_close = train_df[train_df['Site ID_Date'].isin(df_suff_close_entries)] # has stats\n",
    "val_close = val_df[val_df['Site ID_Date'].isin(df_suff_close_entries)]\n",
    "test_close = test_df[test_df['Site ID_Date'].isin(df_suff_close_entries)]\n",
    "\n",
    "# Merge so that the dfs have the day difference added as a column\n",
    "# not working as expected right now, so need to manually add day difference \n",
    "train_close_with_days = pd.merge(train_close, df_suff_close, on=['Site ID_Date', 'POC'], how='inner')\n",
    "val_close_with_days = pd.merge(val_close, df_suff_close, on=['Site ID_Date', 'POC'], how='left')\n",
    "test_close_with_days = pd.merge(test_close, df_suff_close, on=['Site ID_Date', 'POC'], how='left')\n",
    "\n",
    "train_close = train_close.reset_index()\n",
    "train_close_with_days = train_close_with_days.reset_index()\n",
    "val_close = val_close.reset_index()\n",
    "val_close_with_days = val_close_with_days.reset_index()\n",
    "test_close = test_close.reset_index()\n",
    "test_close_with_days = test_close_with_days.reset_index()\n",
    "\n",
    "train_close['PM Reading/Image day difference'] = train_close_with_days['PM Reading/Image day difference']\n",
    "val_close['PM Reading/Image day difference'] = val_close_with_days['PM Reading/Image day difference']\n",
    "test_close['PM Reading/Image day difference'] = test_close_with_days['PM Reading/Image day difference']\n",
    "\n",
    "print(\"Train-repaired only considering days <5 away now has size: {}\".format(len(train_close_with_days))) \n",
    "print(\"Val-repaired only considering days <5 away now has size: {}\".format(len(val_close_with_days)))\n",
    "print(\"Test-repaired only considering days <5 away now has size: {}\".format(len(test_close_with_days)))\n",
    "\n",
    "# Save to csvs once\n",
    "#train_close.to_csv(\"train_repaired_sufficient_close_stats_2016.csv\")\n",
    "#val_close.to_csv(\"val_repaired_sufficient_close_stats_2016.csv\")\n",
    "#test_close.to_csv(\"test_repaired_sufficient_close_stats_2016.csv\")\n"
   ]
  },
  {
   "cell_type": "code",
   "execution_count": 15,
   "metadata": {},
   "outputs": [],
   "source": [
    "## Cloud removal on new repaired dataset\n",
    "import cloud_remove\n",
    "train_repaired = os.path.join(utils.PROCESSED_DATA_FOLDER, \"train_repaired_sufficient_close_stats_2016.csv\")\n",
    "val_repaired = os.path.join(utils.PROCESSED_DATA_FOLDER, \"val_repaired_sufficient_close_stats_2016.csv\")\n",
    "test_repaired = os.path.join(utils.PROCESSED_DATA_FOLDER, \"test_repaired_sufficient_close_stats_2016.csv\")"
   ]
  },
  {
   "cell_type": "code",
   "execution_count": 16,
   "metadata": {},
   "outputs": [
    {
     "name": "stdout",
     "output_type": "stream",
     "text": [
      "WARNING: Progress bar is an experimental feature. This can lead to a considerable performance loss.\n",
      "New pandarallel memory created - Size: 2000 MB\n",
      "Pandarallel will run on 2 workers\n"
     ]
    },
    {
     "data": {
      "application/vnd.jupyter.widget-view+json": {
       "model_id": "c0b485e9c68c48e1a41c5e8262c72a4d",
       "version_major": 2,
       "version_minor": 0
      },
      "text/plain": [
       "VBox(children=(HBox(children=(IntProgress(value=0, description='0.00%', max=13152), Label(value='0 / 13152')))…"
      ]
     },
     "metadata": {},
     "output_type": "display_data"
    },
    {
     "name": "stdout",
     "output_type": "stream",
     "text": [
      "Thresholded /home/sarahciresi/cs325b-airquality/data/processed_data/train_repaired_sufficient_close_stats_2016.csv file at 2000 + used Decision Tree. \n",
      "Initial df was 26304 rows. Thresholded df is 12998 rows.\n"
     ]
    }
   ],
   "source": [
    "train_repaired_cloud_remove = os.path.join(utils.PROCESSED_DATA_FOLDER, \"train_repaired_suff_stats_cloud_remove_2016.csv\")\n",
    "val_repaired_cloud_remove = os.path.join(utils.PROCESSED_DATA_FOLDER, \"val_repaired_suff_stats_cloud_remove_2016.csv\")\n",
    "test_repaired_cloud_remove = os.path.join(utils.PROCESSED_DATA_FOLDER, \"test_repaired_suff_stats_cloud_remove_2016.csv\")\n",
    "\n",
    "#cloud_remove.remove_sent_over_threshold(train_repaired, train_repaired_cloud_remove, threshold=2000)  \n",
    "#cloud_remove.remove_sent_over_threshold(val_repaired, val_repaired_cloud_remove, threshold=2000)  \n",
    "#cloud_remove.remove_sent_over_threshold(test_repaired, test_repaired_cloud_remove, threshold=2000)  \n",
    "\n",
    "\n"
   ]
  },
  {
   "cell_type": "code",
   "execution_count": null,
   "metadata": {},
   "outputs": [],
   "source": []
  }
 ],
 "metadata": {
  "kernelspec": {
   "display_name": "Python 3",
   "language": "python",
   "name": "python3"
  },
  "language_info": {
   "codemirror_mode": {
    "name": "ipython",
    "version": 3
   },
   "file_extension": ".py",
   "mimetype": "text/x-python",
   "name": "python",
   "nbconvert_exporter": "python",
   "pygments_lexer": "ipython3",
   "version": "3.7.6"
  }
 },
 "nbformat": 4,
 "nbformat_minor": 4
}
